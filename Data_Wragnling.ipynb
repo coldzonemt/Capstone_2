{
 "cells": [
  {
   "cell_type": "code",
   "execution_count": 1,
   "id": "e1b86800-f34f-435e-8f27-6eb2ca549112",
   "metadata": {},
   "outputs": [],
   "source": [
    "import pandas as pd\n",
    "import matplotlib.pyplot as plt\n",
    "import numpy as np\n",
    "import seaborn as sns"
   ]
  },
  {
   "cell_type": "code",
   "execution_count": 12,
   "id": "93d38f1c-6874-493d-9832-db6a8d0eb6cc",
   "metadata": {},
   "outputs": [
    {
     "data": {
      "text/html": [
       "<div>\n",
       "<style scoped>\n",
       "    .dataframe tbody tr th:only-of-type {\n",
       "        vertical-align: middle;\n",
       "    }\n",
       "\n",
       "    .dataframe tbody tr th {\n",
       "        vertical-align: top;\n",
       "    }\n",
       "\n",
       "    .dataframe thead th {\n",
       "        text-align: right;\n",
       "    }\n",
       "</style>\n",
       "<table border=\"1\" class=\"dataframe\">\n",
       "  <thead>\n",
       "    <tr style=\"text-align: right;\">\n",
       "      <th></th>\n",
       "      <th>Year</th>\n",
       "      <th>CommodityCode</th>\n",
       "      <th>CropName</th>\n",
       "      <th>CountyCode</th>\n",
       "      <th>County</th>\n",
       "      <th>HarvestedAcres</th>\n",
       "      <th>Yield(Unit/Acre)</th>\n",
       "      <th>Production</th>\n",
       "      <th>Price(Dollars/Unit)</th>\n",
       "      <th>Unit</th>\n",
       "      <th>Value(Dollars)</th>\n",
       "    </tr>\n",
       "  </thead>\n",
       "  <tbody>\n",
       "    <tr>\n",
       "      <th>0</th>\n",
       "      <td>2020</td>\n",
       "      <td>216299</td>\n",
       "      <td>GRAPESWINE</td>\n",
       "      <td>1</td>\n",
       "      <td>Alameda</td>\n",
       "      <td>2530.0</td>\n",
       "      <td>5.14</td>\n",
       "      <td>13000.0</td>\n",
       "      <td>1497.69</td>\n",
       "      <td>Tons</td>\n",
       "      <td>19470000</td>\n",
       "    </tr>\n",
       "    <tr>\n",
       "      <th>1</th>\n",
       "      <td>2020</td>\n",
       "      <td>216299</td>\n",
       "      <td>GRAPESWINE</td>\n",
       "      <td>5</td>\n",
       "      <td>Amador</td>\n",
       "      <td>5360.0</td>\n",
       "      <td>2.31</td>\n",
       "      <td>12400.0</td>\n",
       "      <td>1318.31</td>\n",
       "      <td>Tons</td>\n",
       "      <td>16347000</td>\n",
       "    </tr>\n",
       "    <tr>\n",
       "      <th>2</th>\n",
       "      <td>2020</td>\n",
       "      <td>216299</td>\n",
       "      <td>GRAPESWINE</td>\n",
       "      <td>9</td>\n",
       "      <td>Calaveras</td>\n",
       "      <td>579.0</td>\n",
       "      <td>3.06</td>\n",
       "      <td>1770.0</td>\n",
       "      <td>1325.99</td>\n",
       "      <td>Tons</td>\n",
       "      <td>2347000</td>\n",
       "    </tr>\n",
       "    <tr>\n",
       "      <th>3</th>\n",
       "      <td>2020</td>\n",
       "      <td>216299</td>\n",
       "      <td>GRAPESWINE</td>\n",
       "      <td>11</td>\n",
       "      <td>Colusa</td>\n",
       "      <td>747.0</td>\n",
       "      <td>6.02</td>\n",
       "      <td>4500.0</td>\n",
       "      <td>684.67</td>\n",
       "      <td>Tons</td>\n",
       "      <td>3081000</td>\n",
       "    </tr>\n",
       "    <tr>\n",
       "      <th>4</th>\n",
       "      <td>2020</td>\n",
       "      <td>216299</td>\n",
       "      <td>GRAPESWINE</td>\n",
       "      <td>13</td>\n",
       "      <td>ContraCosta</td>\n",
       "      <td>1940.0</td>\n",
       "      <td>4.69</td>\n",
       "      <td>9090.0</td>\n",
       "      <td>751.27</td>\n",
       "      <td>Tons</td>\n",
       "      <td>6829000</td>\n",
       "    </tr>\n",
       "  </tbody>\n",
       "</table>\n",
       "</div>"
      ],
      "text/plain": [
       "   Year  CommodityCode    CropName  CountyCode       County  HarvestedAcres  \\\n",
       "0  2020         216299  GRAPESWINE           1      Alameda          2530.0   \n",
       "1  2020         216299  GRAPESWINE           5       Amador          5360.0   \n",
       "2  2020         216299  GRAPESWINE           9    Calaveras           579.0   \n",
       "3  2020         216299  GRAPESWINE          11       Colusa           747.0   \n",
       "4  2020         216299  GRAPESWINE          13  ContraCosta          1940.0   \n",
       "\n",
       "   Yield(Unit/Acre)  Production  Price(Dollars/Unit)  Unit  Value(Dollars)  \n",
       "0              5.14     13000.0              1497.69  Tons        19470000  \n",
       "1              2.31     12400.0              1318.31  Tons        16347000  \n",
       "2              3.06      1770.0              1325.99  Tons         2347000  \n",
       "3              6.02      4500.0               684.67  Tons         3081000  \n",
       "4              4.69      9090.0               751.27  Tons         6829000  "
      ]
     },
     "execution_count": 12,
     "metadata": {},
     "output_type": "execute_result"
    }
   ],
   "source": [
    "wine_df = pd.read_csv('data/Californa_Wine_Production_1980_2020.csv')\n",
    "wine_df.head()"
   ]
  },
  {
   "cell_type": "code",
   "execution_count": 13,
   "id": "e2fef825-745e-471a-9128-addff7f103d7",
   "metadata": {},
   "outputs": [
    {
     "data": {
      "text/plain": [
       "(1315, 11)"
      ]
     },
     "execution_count": 13,
     "metadata": {},
     "output_type": "execute_result"
    }
   ],
   "source": [
    "wine_df.shape\n"
   ]
  },
  {
   "cell_type": "code",
   "execution_count": 14,
   "id": "2d1d5e7b-56f8-4d33-8c0c-e5677da89fdf",
   "metadata": {},
   "outputs": [
    {
     "data": {
      "text/plain": [
       "array(['Alameda', 'Amador', 'Calaveras', 'Colusa', 'ContraCosta',\n",
       "       'ElDorado', 'Fresno', 'Kern', 'Kings', 'Lake', 'Madera', 'Marin',\n",
       "       'Mendocino', 'Merced', 'Monterey', 'Napa', 'Nevada', 'Placer',\n",
       "       'Riverside', 'Sacramento', 'SanBenito', 'SanBernardino',\n",
       "       'SanDiego', 'SanJoaquin', 'SanLuisObispo', 'SanMateo',\n",
       "       'SantaBarbara', 'SantaClara', 'SantaCruz', 'Shasta', 'Solano',\n",
       "       'Sonoma', 'Stanislaus', 'Tehama', 'Tulare', 'Yolo', 'Mariposa',\n",
       "       'Trinity', 'Mono', 'SanLuisObisp', 'Yuba', 'Glenn'], dtype=object)"
      ]
     },
     "execution_count": 14,
     "metadata": {},
     "output_type": "execute_result"
    }
   ],
   "source": [
    "wine_df['County'].unique()"
   ]
  },
  {
   "cell_type": "code",
   "execution_count": 15,
   "id": "3ba318e3-ffcd-4d33-84b3-0a89378c8d15",
   "metadata": {},
   "outputs": [
    {
     "name": "stderr",
     "output_type": "stream",
     "text": [
      "/Users/kristinmayer/anaconda3/lib/python3.11/site-packages/seaborn/algorithms.py:98: RuntimeWarning: Mean of empty slice\n",
      "  boot_dist.append(f(*sample, **func_kwargs))\n",
      "/Users/kristinmayer/anaconda3/lib/python3.11/site-packages/numpy/lib/nanfunctions.py:1384: RuntimeWarning: All-NaN slice encountered\n",
      "  return _nanquantile_unchecked(\n"
     ]
    },
    {
     "data": {
      "image/png": "[encoded data removed]",
      "text/plain": [
       "<Figure size 640x480 with 1 Axes>"
      ]
     },
     "metadata": {},
     "output_type": "display_data"
    }
   ],
   "source": [
    "sns.barplot(wine_df, x='County', y='Production')\n",
    "plt.xticks(rotation=90)\n",
    "plt.show()"
   ]
  },
  {
   "cell_type": "code",
   "execution_count": 69,
   "id": "65f3a34d-c825-406e-a430-2c43c8a2f5d1",
   "metadata": {},
   "outputs": [
    {
     "data": {
      "text/html": [
       "<div>\n",
       "<style scoped>\n",
       "    .dataframe tbody tr th:only-of-type {\n",
       "        vertical-align: middle;\n",
       "    }\n",
       "\n",
       "    .dataframe tbody tr th {\n",
       "        vertical-align: top;\n",
       "    }\n",
       "\n",
       "    .dataframe thead th {\n",
       "        text-align: right;\n",
       "    }\n",
       "</style>\n",
       "<table border=\"1\" class=\"dataframe\">\n",
       "  <thead>\n",
       "    <tr style=\"text-align: right;\">\n",
       "      <th></th>\n",
       "      <th>Year</th>\n",
       "      <th>CommodityCode</th>\n",
       "      <th>CropName</th>\n",
       "      <th>CountyCode</th>\n",
       "      <th>County</th>\n",
       "      <th>HarvestedAcres</th>\n",
       "      <th>Yield(Unit/Acre)</th>\n",
       "      <th>Production</th>\n",
       "      <th>Price(Dollars/Unit)</th>\n",
       "      <th>Unit</th>\n",
       "      <th>Value(Dollars)</th>\n",
       "    </tr>\n",
       "  </thead>\n",
       "  <tbody>\n",
       "    <tr>\n",
       "      <th>31</th>\n",
       "      <td>2020</td>\n",
       "      <td>216299</td>\n",
       "      <td>GRAPESWINE</td>\n",
       "      <td>97</td>\n",
       "      <td>Sonoma</td>\n",
       "      <td>56800.0</td>\n",
       "      <td>2.61</td>\n",
       "      <td>148000.0</td>\n",
       "      <td>2375.08</td>\n",
       "      <td>Tons</td>\n",
       "      <td>351512000</td>\n",
       "    </tr>\n",
       "    <tr>\n",
       "      <th>68</th>\n",
       "      <td>2019</td>\n",
       "      <td>216299</td>\n",
       "      <td>GRAPESWINE</td>\n",
       "      <td>97</td>\n",
       "      <td>Sonoma</td>\n",
       "      <td>57500.0</td>\n",
       "      <td>4.00</td>\n",
       "      <td>230000.0</td>\n",
       "      <td>2843.57</td>\n",
       "      <td>Tons</td>\n",
       "      <td>654021000</td>\n",
       "    </tr>\n",
       "    <tr>\n",
       "      <th>106</th>\n",
       "      <td>2018</td>\n",
       "      <td>216299</td>\n",
       "      <td>GRAPESWINE</td>\n",
       "      <td>97</td>\n",
       "      <td>Sonoma</td>\n",
       "      <td>59900.0</td>\n",
       "      <td>4.61</td>\n",
       "      <td>276000.0</td>\n",
       "      <td>2817.66</td>\n",
       "      <td>Tons</td>\n",
       "      <td>777675000</td>\n",
       "    </tr>\n",
       "    <tr>\n",
       "      <th>143</th>\n",
       "      <td>2017</td>\n",
       "      <td>216299</td>\n",
       "      <td>GRAPESWINE</td>\n",
       "      <td>97</td>\n",
       "      <td>Sonoma</td>\n",
       "      <td>60000.0</td>\n",
       "      <td>3.43</td>\n",
       "      <td>206000.0</td>\n",
       "      <td>2807.34</td>\n",
       "      <td>Tons</td>\n",
       "      <td>578313000</td>\n",
       "    </tr>\n",
       "    <tr>\n",
       "      <th>179</th>\n",
       "      <td>2016</td>\n",
       "      <td>216299</td>\n",
       "      <td>GRAPESWINE</td>\n",
       "      <td>97</td>\n",
       "      <td>Sonoma</td>\n",
       "      <td>60000.0</td>\n",
       "      <td>3.77</td>\n",
       "      <td>226000.0</td>\n",
       "      <td>2595.21</td>\n",
       "      <td>Tons</td>\n",
       "      <td>586518000</td>\n",
       "    </tr>\n",
       "  </tbody>\n",
       "</table>\n",
       "</div>"
      ],
      "text/plain": [
       "     Year  CommodityCode    CropName  CountyCode  County  HarvestedAcres  \\\n",
       "31   2020         216299  GRAPESWINE          97  Sonoma         56800.0   \n",
       "68   2019         216299  GRAPESWINE          97  Sonoma         57500.0   \n",
       "106  2018         216299  GRAPESWINE          97  Sonoma         59900.0   \n",
       "143  2017         216299  GRAPESWINE          97  Sonoma         60000.0   \n",
       "179  2016         216299  GRAPESWINE          97  Sonoma         60000.0   \n",
       "\n",
       "     Yield(Unit/Acre)  Production  Price(Dollars/Unit)  Unit  Value(Dollars)  \n",
       "31               2.61    148000.0              2375.08  Tons       351512000  \n",
       "68               4.00    230000.0              2843.57  Tons       654021000  \n",
       "106              4.61    276000.0              2817.66  Tons       777675000  \n",
       "143              3.43    206000.0              2807.34  Tons       578313000  \n",
       "179              3.77    226000.0              2595.21  Tons       586518000  "
      ]
     },
     "execution_count": 69,
     "metadata": {},
     "output_type": "execute_result"
    }
   ],
   "source": [
    "# Get production by year for the Sonoma county \n",
    "\n",
    "sonoma_wine_df = wine_df.loc[wine_df['County'] == 'Sonoma']\n",
    "sonoma_wine_df.head()"
   ]
  },
  {
   "cell_type": "code",
   "execution_count": 80,
   "id": "00d5d1ae-93ad-46c1-a3e2-51c872cd5bc9",
   "metadata": {},
   "outputs": [
    {
     "name": "stderr",
     "output_type": "stream",
     "text": [
      "/Users/kristinmayer/anaconda3/lib/python3.11/site-packages/seaborn/_oldcore.py:1119: FutureWarning: use_inf_as_na option is deprecated and will be removed in a future version. Convert inf values to NaN before operating instead.\n",
      "  with pd.option_context('mode.use_inf_as_na', True):\n",
      "/Users/kristinmayer/anaconda3/lib/python3.11/site-packages/seaborn/_oldcore.py:1119: FutureWarning: use_inf_as_na option is deprecated and will be removed in a future version. Convert inf values to NaN before operating instead.\n",
      "  with pd.option_context('mode.use_inf_as_na', True):\n"
     ]
    },
    {
     "data": {
      "image/png": "[encoded data removed]",
      "text/plain": [
       "<Figure size 640x480 with 1 Axes>"
      ]
     },
     "metadata": {},
     "output_type": "display_data"
    }
   ],
   "source": [
    "sns.lineplot(sonoma_wine_df, x='Year', y='Production')\n",
    "plt.show()"
   ]
  },
  {
   "cell_type": "code",
   "execution_count": 82,
   "id": "c14b900e-f455-4f37-8cf4-f1475f1f7d26",
   "metadata": {},
   "outputs": [
    {
     "name": "stderr",
     "output_type": "stream",
     "text": [
      "/Users/kristinmayer/anaconda3/lib/python3.11/site-packages/seaborn/_oldcore.py:1119: FutureWarning: use_inf_as_na option is deprecated and will be removed in a future version. Convert inf values to NaN before operating instead.\n",
      "  with pd.option_context('mode.use_inf_as_na', True):\n",
      "/Users/kristinmayer/anaconda3/lib/python3.11/site-packages/seaborn/_oldcore.py:1119: FutureWarning: use_inf_as_na option is deprecated and will be removed in a future version. Convert inf values to NaN before operating instead.\n",
      "  with pd.option_context('mode.use_inf_as_na', True):\n"
     ]
    },
    {
     "data": {
      "image/png": "[encoded data removed]",
      "text/plain": [
       "<Figure size 640x480 with 1 Axes>"
      ]
     },
     "metadata": {},
     "output_type": "display_data"
    }
   ],
   "source": [
    "sns.lineplot(sonoma_wine_df, x='Year', y='HarvestedAcres')\n",
    "plt.show()"
   ]
  },
  {
   "cell_type": "code",
   "execution_count": 83,
   "id": "c07293ce-5514-4fb6-bcd1-e0709832fc01",
   "metadata": {},
   "outputs": [],
   "source": [
    "# Sonoma weather data had to be downloaded in 8 5-year increments\n",
    "sonoma_1_df = pd.read_csv('data/sonoma/3724191.csv')\n",
    "sonoma_2_df = pd.read_csv('data/sonoma/3724193.csv')\n",
    "sonoma_3_df = pd.read_csv('data/sonoma/3724194.csv')\n",
    "sonoma_4_df = pd.read_csv('data/sonoma/3724195.csv')\n",
    "sonoma_5_df = pd.read_csv('data/sonoma/3724197.csv')\n",
    "sonoma_6_df = pd.read_csv('data/sonoma/3724199.csv')\n",
    "sonoma_7_df = pd.read_csv('data/sonoma/3724200.csv')\n",
    "sonoma_8_df = pd.read_csv('data/sonoma/3724201.csv')\n",
    "\n",
    "sonomoa_list = [sonoma_1_df, sonoma_2_df, sonoma_3_df, sonoma_4_df, sonoma_5_df, sonoma_6_df, sonoma_7_df, sonoma_8_df, sonoma_9_df]"
   ]
  },
  {
   "cell_type": "code",
   "execution_count": 84,
   "id": "e56dc401-392e-4b8c-8410-8d35670d726f",
   "metadata": {},
   "outputs": [
    {
     "name": "stdout",
     "output_type": "stream",
     "text": [
      "1980-01-01 1985-12-31\n",
      "1986-01-01 1990-12-31\n",
      "1991-01-01 1995-12-31\n",
      "1996-01-01 2000-12-31\n",
      "2001-01-01 2005-12-31\n",
      "2006-01-01 2010-12-31\n",
      "2011-01-01 2015-12-31\n",
      "2016-01-01 2020-12-31\n",
      "2016-01-01 2020-12-31\n"
     ]
    }
   ],
   "source": [
    "# double check date ranges for gaps\n",
    "[print(l['DATE'].min(), l['DATE'].max()) for l in sonomoa_list ];"
   ]
  },
  {
   "cell_type": "code",
   "execution_count": 85,
   "id": "3ec10e79-6555-4225-85f0-02bb33448640",
   "metadata": {},
   "outputs": [],
   "source": [
    "# combine into a single df for ease of cleaning and analysis\n",
    "somona_weather_df = pd.concat([\n",
    "    sonoma_1_df,\n",
    "    sonoma_2_df,\n",
    "    sonoma_3_df,\n",
    "    sonoma_4_df,\n",
    "    sonoma_5_df,\n",
    "    sonoma_6_df,\n",
    "    sonoma_7_df,\n",
    "    sonoma_8_df]).reset_index(drop=True)"
   ]
  },
  {
   "cell_type": "code",
   "execution_count": 43,
   "id": "16f5cc1f-d5d5-41e9-b8f8-8d133bd645f7",
   "metadata": {},
   "outputs": [
    {
     "data": {
      "text/plain": [
       "(284002, 25)"
      ]
     },
     "execution_count": 43,
     "metadata": {},
     "output_type": "execute_result"
    }
   ],
   "source": [
    "somona_weather_df.shape"
   ]
  },
  {
   "cell_type": "code",
   "execution_count": 44,
   "id": "639d07c3-1556-414f-b6fc-af02436d306e",
   "metadata": {},
   "outputs": [
    {
     "data": {
      "text/plain": [
       "0"
      ]
     },
     "execution_count": 44,
     "metadata": {},
     "output_type": "execute_result"
    }
   ],
   "source": [
    "# Check for missing dates\n",
    "somona_weather_df['DATE'].isna().sum()"
   ]
  },
  {
   "cell_type": "code",
   "execution_count": 45,
   "id": "768beeab-8130-4fc2-b25e-dfc74de6332d",
   "metadata": {},
   "outputs": [
    {
     "data": {
      "text/html": [
       "<div>\n",
       "<style scoped>\n",
       "    .dataframe tbody tr th:only-of-type {\n",
       "        vertical-align: middle;\n",
       "    }\n",
       "\n",
       "    .dataframe tbody tr th {\n",
       "        vertical-align: top;\n",
       "    }\n",
       "\n",
       "    .dataframe thead th {\n",
       "        text-align: right;\n",
       "    }\n",
       "</style>\n",
       "<table border=\"1\" class=\"dataframe\">\n",
       "  <thead>\n",
       "    <tr style=\"text-align: right;\">\n",
       "      <th></th>\n",
       "      <th>STATION</th>\n",
       "      <th>NAME</th>\n",
       "      <th>DATE</th>\n",
       "      <th>PRCP</th>\n",
       "      <th>TMAX</th>\n",
       "      <th>TMIN</th>\n",
       "      <th>WT01</th>\n",
       "      <th>WT03</th>\n",
       "      <th>TAVG</th>\n",
       "      <th>WT04</th>\n",
       "      <th>...</th>\n",
       "      <th>WT14</th>\n",
       "      <th>WT16</th>\n",
       "      <th>WT18</th>\n",
       "      <th>WT02</th>\n",
       "      <th>WT10</th>\n",
       "      <th>WT13</th>\n",
       "      <th>WT21</th>\n",
       "      <th>WT22</th>\n",
       "      <th>WT19</th>\n",
       "      <th>WT07</th>\n",
       "    </tr>\n",
       "  </thead>\n",
       "  <tbody>\n",
       "    <tr>\n",
       "      <th>0</th>\n",
       "      <td>USC00048351</td>\n",
       "      <td>SONOMA, CA US</td>\n",
       "      <td>1980-01-01</td>\n",
       "      <td>0.00</td>\n",
       "      <td>NaN</td>\n",
       "      <td>NaN</td>\n",
       "      <td>NaN</td>\n",
       "      <td>NaN</td>\n",
       "      <td>NaN</td>\n",
       "      <td>NaN</td>\n",
       "      <td>...</td>\n",
       "      <td>NaN</td>\n",
       "      <td>NaN</td>\n",
       "      <td>NaN</td>\n",
       "      <td>NaN</td>\n",
       "      <td>NaN</td>\n",
       "      <td>NaN</td>\n",
       "      <td>NaN</td>\n",
       "      <td>NaN</td>\n",
       "      <td>NaN</td>\n",
       "      <td>NaN</td>\n",
       "    </tr>\n",
       "    <tr>\n",
       "      <th>1</th>\n",
       "      <td>USC00048351</td>\n",
       "      <td>SONOMA, CA US</td>\n",
       "      <td>1980-01-02</td>\n",
       "      <td>0.00</td>\n",
       "      <td>61.0</td>\n",
       "      <td>37.0</td>\n",
       "      <td>NaN</td>\n",
       "      <td>NaN</td>\n",
       "      <td>NaN</td>\n",
       "      <td>NaN</td>\n",
       "      <td>...</td>\n",
       "      <td>NaN</td>\n",
       "      <td>NaN</td>\n",
       "      <td>NaN</td>\n",
       "      <td>NaN</td>\n",
       "      <td>NaN</td>\n",
       "      <td>NaN</td>\n",
       "      <td>NaN</td>\n",
       "      <td>NaN</td>\n",
       "      <td>NaN</td>\n",
       "      <td>NaN</td>\n",
       "    </tr>\n",
       "    <tr>\n",
       "      <th>2</th>\n",
       "      <td>USC00048351</td>\n",
       "      <td>SONOMA, CA US</td>\n",
       "      <td>1980-01-03</td>\n",
       "      <td>0.00</td>\n",
       "      <td>61.0</td>\n",
       "      <td>35.0</td>\n",
       "      <td>NaN</td>\n",
       "      <td>NaN</td>\n",
       "      <td>NaN</td>\n",
       "      <td>NaN</td>\n",
       "      <td>...</td>\n",
       "      <td>NaN</td>\n",
       "      <td>NaN</td>\n",
       "      <td>NaN</td>\n",
       "      <td>NaN</td>\n",
       "      <td>NaN</td>\n",
       "      <td>NaN</td>\n",
       "      <td>NaN</td>\n",
       "      <td>NaN</td>\n",
       "      <td>NaN</td>\n",
       "      <td>NaN</td>\n",
       "    </tr>\n",
       "    <tr>\n",
       "      <th>3</th>\n",
       "      <td>USC00048351</td>\n",
       "      <td>SONOMA, CA US</td>\n",
       "      <td>1980-01-04</td>\n",
       "      <td>0.05</td>\n",
       "      <td>56.0</td>\n",
       "      <td>41.0</td>\n",
       "      <td>NaN</td>\n",
       "      <td>NaN</td>\n",
       "      <td>NaN</td>\n",
       "      <td>NaN</td>\n",
       "      <td>...</td>\n",
       "      <td>NaN</td>\n",
       "      <td>NaN</td>\n",
       "      <td>NaN</td>\n",
       "      <td>NaN</td>\n",
       "      <td>NaN</td>\n",
       "      <td>NaN</td>\n",
       "      <td>NaN</td>\n",
       "      <td>NaN</td>\n",
       "      <td>NaN</td>\n",
       "      <td>NaN</td>\n",
       "    </tr>\n",
       "    <tr>\n",
       "      <th>4</th>\n",
       "      <td>USC00048351</td>\n",
       "      <td>SONOMA, CA US</td>\n",
       "      <td>1980-01-05</td>\n",
       "      <td>0.01</td>\n",
       "      <td>56.0</td>\n",
       "      <td>44.0</td>\n",
       "      <td>NaN</td>\n",
       "      <td>NaN</td>\n",
       "      <td>NaN</td>\n",
       "      <td>NaN</td>\n",
       "      <td>...</td>\n",
       "      <td>NaN</td>\n",
       "      <td>NaN</td>\n",
       "      <td>NaN</td>\n",
       "      <td>NaN</td>\n",
       "      <td>NaN</td>\n",
       "      <td>NaN</td>\n",
       "      <td>NaN</td>\n",
       "      <td>NaN</td>\n",
       "      <td>NaN</td>\n",
       "      <td>NaN</td>\n",
       "    </tr>\n",
       "    <tr>\n",
       "      <th>5</th>\n",
       "      <td>USC00048351</td>\n",
       "      <td>SONOMA, CA US</td>\n",
       "      <td>1980-01-06</td>\n",
       "      <td>0.00</td>\n",
       "      <td>56.0</td>\n",
       "      <td>43.0</td>\n",
       "      <td>NaN</td>\n",
       "      <td>NaN</td>\n",
       "      <td>NaN</td>\n",
       "      <td>NaN</td>\n",
       "      <td>...</td>\n",
       "      <td>NaN</td>\n",
       "      <td>NaN</td>\n",
       "      <td>NaN</td>\n",
       "      <td>NaN</td>\n",
       "      <td>NaN</td>\n",
       "      <td>NaN</td>\n",
       "      <td>NaN</td>\n",
       "      <td>NaN</td>\n",
       "      <td>NaN</td>\n",
       "      <td>NaN</td>\n",
       "    </tr>\n",
       "    <tr>\n",
       "      <th>6</th>\n",
       "      <td>USC00048351</td>\n",
       "      <td>SONOMA, CA US</td>\n",
       "      <td>1980-01-07</td>\n",
       "      <td>0.00</td>\n",
       "      <td>64.0</td>\n",
       "      <td>41.0</td>\n",
       "      <td>NaN</td>\n",
       "      <td>NaN</td>\n",
       "      <td>NaN</td>\n",
       "      <td>NaN</td>\n",
       "      <td>...</td>\n",
       "      <td>NaN</td>\n",
       "      <td>NaN</td>\n",
       "      <td>NaN</td>\n",
       "      <td>NaN</td>\n",
       "      <td>NaN</td>\n",
       "      <td>NaN</td>\n",
       "      <td>NaN</td>\n",
       "      <td>NaN</td>\n",
       "      <td>NaN</td>\n",
       "      <td>NaN</td>\n",
       "    </tr>\n",
       "    <tr>\n",
       "      <th>7</th>\n",
       "      <td>USC00048351</td>\n",
       "      <td>SONOMA, CA US</td>\n",
       "      <td>1980-01-08</td>\n",
       "      <td>0.00</td>\n",
       "      <td>60.0</td>\n",
       "      <td>47.0</td>\n",
       "      <td>NaN</td>\n",
       "      <td>NaN</td>\n",
       "      <td>NaN</td>\n",
       "      <td>NaN</td>\n",
       "      <td>...</td>\n",
       "      <td>NaN</td>\n",
       "      <td>NaN</td>\n",
       "      <td>NaN</td>\n",
       "      <td>NaN</td>\n",
       "      <td>NaN</td>\n",
       "      <td>NaN</td>\n",
       "      <td>NaN</td>\n",
       "      <td>NaN</td>\n",
       "      <td>NaN</td>\n",
       "      <td>NaN</td>\n",
       "    </tr>\n",
       "    <tr>\n",
       "      <th>8</th>\n",
       "      <td>USC00048351</td>\n",
       "      <td>SONOMA, CA US</td>\n",
       "      <td>1980-01-09</td>\n",
       "      <td>0.50</td>\n",
       "      <td>55.0</td>\n",
       "      <td>48.0</td>\n",
       "      <td>NaN</td>\n",
       "      <td>NaN</td>\n",
       "      <td>NaN</td>\n",
       "      <td>NaN</td>\n",
       "      <td>...</td>\n",
       "      <td>NaN</td>\n",
       "      <td>NaN</td>\n",
       "      <td>NaN</td>\n",
       "      <td>NaN</td>\n",
       "      <td>NaN</td>\n",
       "      <td>NaN</td>\n",
       "      <td>NaN</td>\n",
       "      <td>NaN</td>\n",
       "      <td>NaN</td>\n",
       "      <td>NaN</td>\n",
       "    </tr>\n",
       "    <tr>\n",
       "      <th>9</th>\n",
       "      <td>USC00048351</td>\n",
       "      <td>SONOMA, CA US</td>\n",
       "      <td>1980-01-10</td>\n",
       "      <td>0.06</td>\n",
       "      <td>55.0</td>\n",
       "      <td>38.0</td>\n",
       "      <td>NaN</td>\n",
       "      <td>NaN</td>\n",
       "      <td>NaN</td>\n",
       "      <td>NaN</td>\n",
       "      <td>...</td>\n",
       "      <td>NaN</td>\n",
       "      <td>NaN</td>\n",
       "      <td>NaN</td>\n",
       "      <td>NaN</td>\n",
       "      <td>NaN</td>\n",
       "      <td>NaN</td>\n",
       "      <td>NaN</td>\n",
       "      <td>NaN</td>\n",
       "      <td>NaN</td>\n",
       "      <td>NaN</td>\n",
       "    </tr>\n",
       "  </tbody>\n",
       "</table>\n",
       "<p>10 rows × 25 columns</p>\n",
       "</div>"
      ],
      "text/plain": [
       "       STATION           NAME        DATE  PRCP  TMAX  TMIN  WT01  WT03  TAVG  \\\n",
       "0  USC00048351  SONOMA, CA US  1980-01-01  0.00   NaN   NaN   NaN   NaN   NaN   \n",
       "1  USC00048351  SONOMA, CA US  1980-01-02  0.00  61.0  37.0   NaN   NaN   NaN   \n",
       "2  USC00048351  SONOMA, CA US  1980-01-03  0.00  61.0  35.0   NaN   NaN   NaN   \n",
       "3  USC00048351  SONOMA, CA US  1980-01-04  0.05  56.0  41.0   NaN   NaN   NaN   \n",
       "4  USC00048351  SONOMA, CA US  1980-01-05  0.01  56.0  44.0   NaN   NaN   NaN   \n",
       "5  USC00048351  SONOMA, CA US  1980-01-06  0.00  56.0  43.0   NaN   NaN   NaN   \n",
       "6  USC00048351  SONOMA, CA US  1980-01-07  0.00  64.0  41.0   NaN   NaN   NaN   \n",
       "7  USC00048351  SONOMA, CA US  1980-01-08  0.00  60.0  47.0   NaN   NaN   NaN   \n",
       "8  USC00048351  SONOMA, CA US  1980-01-09  0.50  55.0  48.0   NaN   NaN   NaN   \n",
       "9  USC00048351  SONOMA, CA US  1980-01-10  0.06  55.0  38.0   NaN   NaN   NaN   \n",
       "\n",
       "   WT04  ...  WT14  WT16  WT18  WT02  WT10  WT13  WT21  WT22  WT19  WT07  \n",
       "0   NaN  ...   NaN   NaN   NaN   NaN   NaN   NaN   NaN   NaN   NaN   NaN  \n",
       "1   NaN  ...   NaN   NaN   NaN   NaN   NaN   NaN   NaN   NaN   NaN   NaN  \n",
       "2   NaN  ...   NaN   NaN   NaN   NaN   NaN   NaN   NaN   NaN   NaN   NaN  \n",
       "3   NaN  ...   NaN   NaN   NaN   NaN   NaN   NaN   NaN   NaN   NaN   NaN  \n",
       "4   NaN  ...   NaN   NaN   NaN   NaN   NaN   NaN   NaN   NaN   NaN   NaN  \n",
       "5   NaN  ...   NaN   NaN   NaN   NaN   NaN   NaN   NaN   NaN   NaN   NaN  \n",
       "6   NaN  ...   NaN   NaN   NaN   NaN   NaN   NaN   NaN   NaN   NaN   NaN  \n",
       "7   NaN  ...   NaN   NaN   NaN   NaN   NaN   NaN   NaN   NaN   NaN   NaN  \n",
       "8   NaN  ...   NaN   NaN   NaN   NaN   NaN   NaN   NaN   NaN   NaN   NaN  \n",
       "9   NaN  ...   NaN   NaN   NaN   NaN   NaN   NaN   NaN   NaN   NaN   NaN  \n",
       "\n",
       "[10 rows x 25 columns]"
      ]
     },
     "execution_count": 45,
     "metadata": {},
     "output_type": "execute_result"
    }
   ],
   "source": [
    "# Checkout the dataframe\n",
    "somona_weather_df.head(10)"
   ]
  },
  {
   "cell_type": "code",
   "execution_count": 54,
   "id": "69a872c1-bf23-4eba-99c7-f918c7638b68",
   "metadata": {},
   "outputs": [
    {
     "data": {
      "text/plain": [
       "Index(['STATION', 'NAME', 'DATE', 'PRCP', 'TMAX', 'TMIN', 'WT01', 'WT03',\n",
       "       'TAVG', 'WT04', 'WT05', 'WT06', 'WT08', 'WT09', 'WT11', 'WT14', 'WT16',\n",
       "       'WT18', 'WT02', 'WT10', 'WT13', 'WT21', 'WT22', 'WT19', 'WT07'],\n",
       "      dtype='object')"
      ]
     },
     "execution_count": 54,
     "metadata": {},
     "output_type": "execute_result"
    }
   ],
   "source": [
    "# Get column names - may want to drop the \"WT\" columns if there are too many NaNs (that is a \"weather type\" column)\n",
    "somona_weather_df.columns"
   ]
  },
  {
   "cell_type": "code",
   "execution_count": 48,
   "id": "e8a82016-df90-4f05-80a0-04fa1875b782",
   "metadata": {},
   "outputs": [
    {
     "data": {
      "text/plain": [
       "159165"
      ]
     },
     "execution_count": 48,
     "metadata": {},
     "output_type": "execute_result"
    }
   ],
   "source": [
    "# Get the NaN counts for the max, min, avg temps and precip\n",
    "somona_weather_df['TMAX'].isna().sum()"
   ]
  },
  {
   "cell_type": "code",
   "execution_count": 49,
   "id": "7596e84c-235d-490e-97b1-57838f1bd3c2",
   "metadata": {},
   "outputs": [
    {
     "data": {
      "text/plain": [
       "159306"
      ]
     },
     "execution_count": 49,
     "metadata": {},
     "output_type": "execute_result"
    }
   ],
   "source": [
    "somona_weather_df['TMIN'].isna().sum()"
   ]
  },
  {
   "cell_type": "code",
   "execution_count": 51,
   "id": "826665b9-909e-44d1-bce0-94cecb96804b",
   "metadata": {},
   "outputs": [
    {
     "data": {
      "text/plain": [
       "260719"
      ]
     },
     "execution_count": 51,
     "metadata": {},
     "output_type": "execute_result"
    }
   ],
   "source": [
    "somona_weather_df['TAVG'].isna().sum()"
   ]
  },
  {
   "cell_type": "code",
   "execution_count": 52,
   "id": "89a39183-51b1-417e-a7f4-d0be7ecde507",
   "metadata": {},
   "outputs": [
    {
     "data": {
      "text/plain": [
       "26558"
      ]
     },
     "execution_count": 52,
     "metadata": {},
     "output_type": "execute_result"
    }
   ],
   "source": [
    "somona_weather_df['PRCP'].isna().sum()"
   ]
  },
  {
   "cell_type": "code",
   "execution_count": 64,
   "id": "751c501a-7e9c-4a8c-867b-c1535dfbac89",
   "metadata": {},
   "outputs": [
    {
     "data": {
      "text/plain": [
       "119"
      ]
     },
     "execution_count": 64,
     "metadata": {},
     "output_type": "execute_result"
    }
   ],
   "source": [
    "# Get number of unique locations\n",
    "len(somona_weather_df['NAME'].unique())"
   ]
  },
  {
   "cell_type": "code",
   "execution_count": 65,
   "id": "418efe83-fea0-4137-bc60-6e21ae733e74",
   "metadata": {},
   "outputs": [
    {
     "data": {
      "text/plain": [
       "122"
      ]
     },
     "execution_count": 65,
     "metadata": {},
     "output_type": "execute_result"
    }
   ],
   "source": [
    "# Get number of unique stations \n",
    "len(somona_weather_df['STATION'].unique())"
   ]
  },
  {
   "cell_type": "code",
   "execution_count": null,
   "id": "76077a79-26df-47bc-a45c-a50dbd6182de",
   "metadata": {},
   "outputs": [],
   "source": [
    "# Find how NaN values are distributed by location ('Name') and / or 'Station'\n",
    "# Potentially drop stations / locations if they are predominantly NaN\n",
    "# Plot the stations geographically? "
   ]
  },
  {
   "cell_type": "code",
   "execution_count": null,
   "id": "3e70687b-7833-439a-80b9-5afdad0006ea",
   "metadata": {},
   "outputs": [],
   "source": []
  }
 ],
 "metadata": {
  "kernelspec": {
   "display_name": "Python 3 (ipykernel)",
   "language": "python",
   "name": "python3"
  },
  "language_info": {
   "codemirror_mode": {
    "name": "ipython",
    "version": 3
   },
   "file_extension": ".py",
   "mimetype": "text/x-python",
   "name": "python",
   "nbconvert_exporter": "python",
   "pygments_lexer": "ipython3",
   "version": "3.11.9"
  }
 },
 "nbformat": 4,
 "nbformat_minor": 5
}
