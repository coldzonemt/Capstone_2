{
 "cells": [
  {
   "cell_type": "code",
   "execution_count": 4,
   "id": "0147a7c8-e557-4f24-90ae-3c8e00b32542",
   "metadata": {},
   "outputs": [],
   "source": [
    "import pandas as pd\n",
    "import numpy as np\n",
    "import matplotlib.pyplot as plt\n",
    "import seaborn as sns"
   ]
  },
  {
   "cell_type": "code",
   "execution_count": 6,
   "id": "b7c1e402-9ea2-4ebc-829a-306d24801547",
   "metadata": {},
   "outputs": [],
   "source": [
    "df_wine = pd.read_csv('data/sonoma/sonoma_wine_cleaned.csv')\n",
    "df_weather = pd.read_csv('data/updated_weather_df.csv')"
   ]
  },
  {
   "cell_type": "code",
   "execution_count": null,
   "id": "6f51688b-e881-4ee2-862b-340a3e546869",
   "metadata": {},
   "outputs": [],
   "source": [
    "# Select 8-10 weather stations, based on EDA results and create new dataframe\n",
    "# Because all the calculations on this was done in EDA, I updated that notebook and exported a new csv file. "
   ]
  },
  {
   "cell_type": "code",
   "execution_count": null,
   "id": "d251fbeb-83b4-40cb-8b7a-fb30dba95a25",
   "metadata": {},
   "outputs": [],
   "source": [
    "# Fill in all Nan values with the mean precip, tmin, tmax for that given date"
   ]
  },
  {
   "cell_type": "code",
   "execution_count": null,
   "id": "7aafe0a5-c2c8-408b-9080-fa83e02552c8",
   "metadata": {},
   "outputs": [],
   "source": [
    "# Merge the yield per acre of grapes in Sonoma into the weather data"
   ]
  },
  {
   "cell_type": "code",
   "execution_count": null,
   "id": "dfe032f2-647c-4972-a5a8-37f6a85ae116",
   "metadata": {},
   "outputs": [],
   "source": [
    "# Set up train / test split of data"
   ]
  },
  {
   "cell_type": "code",
   "execution_count": null,
   "id": "d76417c2-8fb0-4fe7-afb1-c27449ec121b",
   "metadata": {},
   "outputs": [],
   "source": []
  },
  {
   "cell_type": "code",
   "execution_count": null,
   "id": "41d1dd22-87f0-4c73-bef8-2e722d988030",
   "metadata": {},
   "outputs": [],
   "source": []
  },
  {
   "cell_type": "code",
   "execution_count": null,
   "id": "9e2cf42f-7d32-4a1f-b785-0aa581e1ac06",
   "metadata": {},
   "outputs": [],
   "source": []
  },
  {
   "cell_type": "code",
   "execution_count": null,
   "id": "cbacedaf-2375-4f08-b455-721948d018f3",
   "metadata": {},
   "outputs": [],
   "source": []
  },
  {
   "cell_type": "code",
   "execution_count": null,
   "id": "5f833177-d3b7-46d3-be21-3ae81fc620ff",
   "metadata": {},
   "outputs": [],
   "source": []
  },
  {
   "cell_type": "code",
   "execution_count": null,
   "id": "0b410202-f26d-4c3b-9109-8c017b97b98e",
   "metadata": {},
   "outputs": [],
   "source": []
  }
 ],
 "metadata": {
  "kernelspec": {
   "display_name": "Python 3 (ipykernel)",
   "language": "python",
   "name": "python3"
  },
  "language_info": {
   "codemirror_mode": {
    "name": "ipython",
    "version": 3
   },
   "file_extension": ".py",
   "mimetype": "text/x-python",
   "name": "python",
   "nbconvert_exporter": "python",
   "pygments_lexer": "ipython3",
   "version": "3.11.8"
  }
 },
 "nbformat": 4,
 "nbformat_minor": 5
}
